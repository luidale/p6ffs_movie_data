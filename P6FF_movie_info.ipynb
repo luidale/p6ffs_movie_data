{
 "cells": [
  {
   "cell_type": "markdown",
   "metadata": {},
   "source": [
    "# PÖFF's movie info"
   ]
  },
  {
   "cell_type": "code",
   "execution_count": 1,
   "metadata": {},
   "outputs": [
    {
     "data": {
      "application/vnd.jupyter.widget-view+json": {
       "model_id": "35ffa7a6616442e5b970ccb6fa127f17",
       "version_major": 2,
       "version_minor": 0
      },
      "text/plain": [
       "QgridWidget(grid_options={'fullWidthRows': True, 'syncColumnCellResize': True, 'forceFitColumns': True, 'defau…"
      ]
     },
     "metadata": {},
     "output_type": "display_data"
    }
   ],
   "source": [
    "import pandas as pd\n",
    "import os\n",
    "from datetime import date\n",
    "from os import listdir\n",
    "from os.path import isfile, join\n",
    "import requests\n",
    "import re\n",
    "import imdb\n",
    "\n",
    "import qgrid\n",
    "#jupyter nbextension enable --py --sys-prefix qgrid\n",
    "#jupyter nbextension enable --py --sys-prefix widgetsnbextension\n",
    "\n",
    "def createP6ffMovieDataFile():\n",
    "\n",
    "    p6ff_url = \"https://poff.ee/en/search_film/\"\n",
    "\n",
    "    # Get movie titles\n",
    "    movies_html = requests.get(p6ff_url)\n",
    "    year_html = iter(movies_html.text.split(\"\\n\"))\n",
    "    movies = []\n",
    "    for i, line in enumerate(year_html):\n",
    "        # find line wih movie titels\n",
    "        if (line.find('<div class=\"card_film_title\">') != -1):\n",
    "\n",
    "            movie_titles = re.findall('<h3 class=\"film_title_locale dark_1\" id=\"title\">([a-zA-Z0-9 \\-.:/]+)</h3>',line)\n",
    "\n",
    "            #print (sorted(movie_titles))\n",
    "\n",
    "    # Get movie data\n",
    "    i = imdb.IMDb()\n",
    "    movies = {}\n",
    "    movies_data = {\"title\": [],\n",
    "                  \"rating\": [],\n",
    "                  \"votes\": [],\n",
    "                  \"year\": [],\n",
    "                  \"genres\": [],\n",
    "                  \"cover url\": [],\n",
    "                  \"imdbID\": [],\n",
    "                  \"imdbLink\": [],\n",
    "                  \"imdb\": []}\n",
    "    for j,title in enumerate(sorted(movie_titles)):                    \n",
    "        print (\"\\t\",title)\n",
    "        movies[title] = {}\n",
    "        best_match = i.search_movie(title)\n",
    "\n",
    "        if (j == 10):\n",
    "            break\n",
    "        movies_data[\"title\"].append(title)\n",
    "\n",
    "\n",
    "        #if no matches\n",
    "        if len(best_match) == 0: \n",
    "            movies_data[\"rating\"].append(0)\n",
    "            movies_data[\"votes\"].append(0)\n",
    "            movies_data[\"year\"].append(0)\n",
    "            movies_data[\"genres\"].append(\"\")\n",
    "            movies_data[\"cover url\"].append(\"\")\n",
    "            movies_data[\"imdbID\"].append(\"\")\n",
    "            movies_data[\"imdbLink\"].append(\"\")\n",
    "            movies_data[\"imdb\"].append(\"\") \n",
    "            continue\n",
    "\n",
    "        best_match =i.search_movie(title)[0] #first match is chosen\n",
    "        i.update(best_match)\n",
    "        movies[title][\"imdb\"] = best_match\n",
    "        movies_data[\"imdb\"].append(best_match)\n",
    "\n",
    "        if \"rating\" in best_match.keys():\n",
    "            movies_data[\"rating\"].append(best_match[\"rating\"])\n",
    "        else:\n",
    "            movies_data[\"rating\"].append(\"\");\n",
    "\n",
    "        if \"year\" in best_match.keys():\n",
    "            movies_data[\"year\"].append(best_match[\"year\"])\n",
    "        else:\n",
    "            movies_data[\"year\"].append(\"\");\n",
    "\n",
    "        if \"genres\" in best_match.keys():\n",
    "            movies_data[\"genres\"].append(\";\".join(best_match[\"genres\"]))\n",
    "        else:\n",
    "            movies_data[\"genres\"].append(\"\");\n",
    "\n",
    "        if \"votes\" in best_match.keys():\n",
    "            movies_data[\"votes\"].append(best_match[\"votes\"])\n",
    "        else:\n",
    "            movies_data[\"votes\"].append(\"\");\n",
    "\n",
    "        if \"cover url\" in best_match.keys():\n",
    "            movies_data[\"cover url\"].append(best_match[\"cover url\"])\n",
    "        else:\n",
    "            movies_data[\"cover url\"].append(\"\");\n",
    "\n",
    "        if \"imdbID\" in best_match.keys():\n",
    "            movies_data[\"imdbID\"].append(best_match[\"imdbID\"])\n",
    "            movies_data[\"imdbLink\"].append('<a href=\"http://www.imdb.com/title/tt' + best_match[\"imdbID\"] + '/\">Link</a>')\n",
    "        else:\n",
    "            movies_data[\"imdbID\"].append(\"\");\n",
    "            movies_data[\"imdbLink\"].append(\"\");\n",
    "\n",
    "    #print(\" - \".join([title,str(movies[title][\"rating\"]),str(movies[title][\"votes\"]), str(movies[title][\"year\"]), \";\".join(movies[title][\"genres\"])]))    \n",
    "\n",
    "    # write data to file\n",
    "    df = pd.DataFrame(movies_data, columns= ['title', 'rating', 'votes', 'year', 'genres' , 'imdbLink'])\n",
    "\n",
    "    today = date.today()\n",
    "    fileName = os.path.join(\"data\",\"movies_data.csv\")\n",
    "    newFileName = os.path.join(\"data\",\"movies_data_\" + str(today) + \".csv\")\n",
    "    df.to_csv(newFileName, index = False, header=True)\n",
    "\n",
    "# get all data files\n",
    "onlyfiles = [f for f in listdir(\"data\") if isfile(join(\"data\", f))]\n",
    "\n",
    "# if data files are missing create one\n",
    "if (len(onlyfiles) == 0):\n",
    "    createP6ffMovieDataFile()\n",
    "\n",
    "# last imdb data file\n",
    "lastFile = onlyfiles[len(onlyfiles)-1]\n",
    "\n",
    "# extract data\n",
    "df = pd.read_csv(os.path.join(\"data\",lastFile)) \n",
    "\n",
    "# display data\n",
    "df = df.sort_values(\"rating\", ascending = False)\n",
    "qgrid_widget = qgrid.show_grid(df)\n",
    "qgrid_widget"
   ]
  },
  {
   "cell_type": "code",
   "execution_count": 5,
   "metadata": {},
   "outputs": [
    {
     "name": "stdout",
     "output_type": "stream",
     "text": [
      "2020-11-16\n",
      "2020-11-17\n"
     ]
    }
   ],
   "source": [
    "# if last data files is not from today it will creat new one\n",
    "\n",
    "today = date.today()\n",
    "lastFileDate = lastFile.split(\".\")[0].split(\"_\")[2]\n",
    "if (str(today) != lastFileDate):\n",
    "    print(lastFileDate)\n",
    "    print(str(today))\n",
    "    #createP6ffMovieDataFile()"
   ]
  },
  {
   "cell_type": "code",
   "execution_count": null,
   "metadata": {},
   "outputs": [],
   "source": []
  }
 ],
 "metadata": {
  "kernelspec": {
   "display_name": "Python 3",
   "language": "python",
   "name": "python3"
  },
  "language_info": {
   "codemirror_mode": {
    "name": "ipython",
    "version": 3
   },
   "file_extension": ".py",
   "mimetype": "text/x-python",
   "name": "python",
   "nbconvert_exporter": "python",
   "pygments_lexer": "ipython3",
   "version": "3.7.1"
  }
 },
 "nbformat": 4,
 "nbformat_minor": 2
}
